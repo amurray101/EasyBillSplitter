{
 "cells": [
  {
   "cell_type": "code",
   "execution_count": 1,
   "metadata": {},
   "outputs": [
    {
     "ename": "SyntaxError",
     "evalue": "invalid syntax (<ipython-input-1-163deff1b843>, line 5)",
     "output_type": "error",
     "traceback": [
      "\u001b[1;36m  File \u001b[1;32m\"<ipython-input-1-163deff1b843>\"\u001b[1;36m, line \u001b[1;32m5\u001b[0m\n\u001b[1;33m    img = io.imread(&lt;image file&gt;)\u001b[0m\n\u001b[1;37m                    ^\u001b[0m\n\u001b[1;31mSyntaxError\u001b[0m\u001b[1;31m:\u001b[0m invalid syntax\n"
     ]
    }
   ],
   "source": [
    "from skimage import io, color\n",
    "\n",
    "from scipy.fftpack import dct, idct\n",
    "\n",
    "img = io.imread(&lt;image file&gt;)\n",
    "\n",
    "gray = color.rgb2gray(img)\n",
    "\n",
    "frequencies = dct(dct(gray, axis=0), axis=1)\n",
    "\n",
    "frequencies[:2,:2] = 0\n",
    "\n",
    "gray = idct(idct(frequencies, axis=1), axis=0)\n",
    "\n",
    "gray = (gray - gray.min()) / (gray.max() - gray.min()) # renormalize to range [0:1]"
   ]
  },
  {
   "cell_type": "code",
   "execution_count": null,
   "metadata": {},
   "outputs": [],
   "source": []
  }
 ],
 "metadata": {
  "kernelspec": {
   "display_name": "Python 3",
   "language": "python",
   "name": "python3"
  },
  "language_info": {
   "codemirror_mode": {
    "name": "ipython",
    "version": 3
   },
   "file_extension": ".py",
   "mimetype": "text/x-python",
   "name": "python",
   "nbconvert_exporter": "python",
   "pygments_lexer": "ipython3",
   "version": "3.8.2"
  }
 },
 "nbformat": 4,
 "nbformat_minor": 4
}
